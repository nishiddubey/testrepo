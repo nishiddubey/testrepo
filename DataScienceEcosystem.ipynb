{
 "cells": [
  {
   "cell_type": "markdown",
   "id": "7d52071a-058f-417f-85f3-125e06752630",
   "metadata": {},
   "source": [
    "<h1>Data Science Tools and Ecosystem</h1>\n"
   ]
  },
  {
   "cell_type": "markdown",
   "id": "d0dd5b21-9183-4c6a-b844-fba1973c0a81",
   "metadata": {},
   "source": [
    "In this notebook, Data Science Tools and Ecosystem are summarized."
   ]
  },
  {
   "cell_type": "markdown",
   "id": "d8d1eeaa-fb16-4373-a35a-79ebc995bd54",
   "metadata": {},
   "source": [
    "\n",
    "<ol>\n",
    "<lh>Some of the popular languages that Data Scientists use are:</lh>\n",
    "<li>Python</li>\n",
    "<li>R</li>\n",
    "<li>Scala</li>\n",
    "</ol>"
   ]
  },
  {
   "cell_type": "markdown",
   "id": "7db5fd3c-e6be-400e-bac4-27580939130a",
   "metadata": {},
   "source": [
    "Some of the commonly used libraries used by Data Scientists include:\n",
    "<ol>\n",
    "\n",
    "<li>Pandas</li>\n",
    "<li>Scifi</li>\n",
    "<li>carra</li>\n",
    "</ol>"
   ]
  },
  {
   "cell_type": "markdown",
   "id": "359cb309-c804-444f-beab-e316e81a5ee4",
   "metadata": {},
   "source": [
    "|Data Science Tools|\n",
    "| ---------------- |\n",
    "|Rstudio|\n",
    "|Jypyter Notebook|\n",
    "|Anaconda|"
   ]
  },
  {
   "cell_type": "markdown",
   "id": "cfb16ce8-2e9a-4a48-8889-a31336b6486f",
   "metadata": {},
   "source": [
    "<b>Objectives:</b>\n",
    "<ul>\n",
    "    <li>Tools used in data science</li>\n",
    "    <li>Importance of R</li>\n",
    "    <li>Git and Github</li>\n",
    "</ul>"
   ]
  },
  {
   "cell_type": "markdown",
   "id": "a5ec2dd5-1cd9-47b4-8774-9c700c2ad6f5",
   "metadata": {},
   "source": [
    "<h3>Below are a few examples of evaluating arithmetic expressions in Python"
   ]
  },
  {
   "cell_type": "code",
   "execution_count": 3,
   "id": "313f533c-3afd-4cdf-86ae-ec137040c20e",
   "metadata": {},
   "outputs": [
    {
     "name": "stdout",
     "output_type": "stream",
     "text": [
      "17\n"
     ]
    }
   ],
   "source": [
    "# This a simple arithmetic expression to mutiply then add integers\n",
    "print((3*4)+5)"
   ]
  },
  {
   "cell_type": "code",
   "execution_count": 4,
   "id": "376b175a-c259-42b7-ab59-3b4429352f50",
   "metadata": {},
   "outputs": [
    {
     "name": "stdout",
     "output_type": "stream",
     "text": [
      "3.3333333333333335 hours\n"
     ]
    }
   ],
   "source": [
    "# This will convert 200 minutes to hours by diving by 60\n",
    "print(200/60,'hours')\n",
    "\n"
   ]
  },
  {
   "cell_type": "markdown",
   "id": "93eea912-d414-43b4-8771-c42a7a6f1267",
   "metadata": {},
   "source": [
    "<H3>Author</H3>\n",
    "Nishid Dubey\n",
    "\n"
   ]
  },
  {
   "cell_type": "code",
   "execution_count": null,
   "id": "8193bbd4-d3b3-46c0-9fb7-a88f968a0ceb",
   "metadata": {},
   "outputs": [],
   "source": []
  }
 ],
 "metadata": {
  "kernelspec": {
   "display_name": "Python",
   "language": "python",
   "name": "conda-env-python-py"
  },
  "language_info": {
   "codemirror_mode": {
    "name": "ipython",
    "version": 3
   },
   "file_extension": ".py",
   "mimetype": "text/x-python",
   "name": "python",
   "nbconvert_exporter": "python",
   "pygments_lexer": "ipython3",
   "version": "3.7.12"
  }
 },
 "nbformat": 4,
 "nbformat_minor": 5
}
